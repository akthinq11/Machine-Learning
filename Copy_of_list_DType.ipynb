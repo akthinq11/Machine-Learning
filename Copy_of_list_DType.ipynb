{
  "nbformat": 4,
  "nbformat_minor": 0,
  "metadata": {
    "colab": {
      "name": "Copy of list_DType.ipynb",
      "provenance": [],
      "collapsed_sections": [],
      "include_colab_link": true
    },
    "kernelspec": {
      "name": "python3",
      "display_name": "Python 3"
    },
    "language_info": {
      "name": "python"
    }
  },
  "cells": [
    {
      "cell_type": "markdown",
      "metadata": {
        "id": "view-in-github",
        "colab_type": "text"
      },
      "source": [
        "<a href=\"https://colab.research.google.com/github/akthinq11/Machine-Learning/blob/practice/Copy_of_list_DType.ipynb\" target=\"_parent\"><img src=\"https://colab.research.google.com/assets/colab-badge.svg\" alt=\"Open In Colab\"/></a>"
      ]
    },
    {
      "cell_type": "markdown",
      "metadata": {
        "id": "7DHlxw7KS4LO"
      },
      "source": [
        "**[Slide No.- 35]**\n",
        "\n",
        "1. Create a empty list and check its Data type "
      ]
    },
    {
      "cell_type": "code",
      "metadata": {
        "id": "9tPdozyQj7cu",
        "colab": {
          "base_uri": "https://localhost:8080/"
        },
        "outputId": "25de3100-ac71-4170-a230-029700cb840c"
      },
      "source": [
        "name =[]\n",
        "print(type(name))"
      ],
      "execution_count": null,
      "outputs": [
        {
          "output_type": "stream",
          "name": "stdout",
          "text": [
            "<class 'list'>\n"
          ]
        }
      ]
    },
    {
      "cell_type": "code",
      "metadata": {
        "id": "RtfUHgj5a45J",
        "colab": {
          "base_uri": "https://localhost:8080/"
        },
        "outputId": "e423a817-a595-47cc-ddf6-ebbe8e7778bf"
      },
      "source": [
        "print(type(1))\n"
      ],
      "execution_count": null,
      "outputs": [
        {
          "output_type": "stream",
          "name": "stdout",
          "text": [
            "<class 'int'>\n"
          ]
        }
      ]
    },
    {
      "cell_type": "markdown",
      "metadata": {
        "id": "4EnsxsI0FPcv"
      },
      "source": [
        ""
      ]
    },
    {
      "cell_type": "code",
      "metadata": {
        "id": "ef5HNtgtSDwz"
      },
      "source": [
        ""
      ],
      "execution_count": null,
      "outputs": []
    },
    {
      "cell_type": "markdown",
      "metadata": {
        "id": "KbC4gtb0Wo4u"
      },
      "source": [
        "**[Slide No.- 35]**\n",
        "\n",
        "2. Create a list in which at even places string are present and at odd places integervalue is present and the length of the string is 6."
      ]
    },
    {
      "cell_type": "code",
      "metadata": {
        "id": "BzIsIJzXWpMO",
        "colab": {
          "base_uri": "https://localhost:8080/"
        },
        "outputId": "9bfbf35c-b3e2-44c8-c38f-e3a1c675b4d9"
      },
      "source": [
        "list_1 = [1 , 'subhash', 2 , 'ram' , 3 , 'raj']\n",
        "print(list_1)\n"
      ],
      "execution_count": null,
      "outputs": [
        {
          "output_type": "stream",
          "name": "stdout",
          "text": [
            "[1, 'subhash', 2, 'ram', 3, 'raj']\n"
          ]
        }
      ]
    },
    {
      "cell_type": "markdown",
      "metadata": {
        "id": "NhGbCdSfTFa7"
      },
      "source": [
        "**[Slide No. - 36]**\n",
        "\n",
        "3. Create a lsit which has 6 elements and print last three elements from the list "
      ]
    },
    {
      "cell_type": "code",
      "metadata": {
        "id": "SUzgZi8DTF5C",
        "colab": {
          "base_uri": "https://localhost:8080/"
        },
        "outputId": "912e3f6c-848c-490b-a052-b61cd6c4f4b8"
      },
      "source": [
        "list_2 = [1,2,3,4,5,6]\n",
        "print(list_2[:3])\n",
        "\n",
        "print(list_2[3:])"
      ],
      "execution_count": null,
      "outputs": [
        {
          "output_type": "stream",
          "name": "stdout",
          "text": [
            "[1, 2, 3]\n",
            "[4, 5, 6]\n"
          ]
        }
      ]
    },
    {
      "cell_type": "markdown",
      "metadata": {
        "id": "3LhHLCB6Tm8K"
      },
      "source": [
        "**[Slide No. - 36 ]**\n",
        "\n",
        "4. What is the output :\n",
        " list = [1,2,3,4,5,6,7] \n",
        " \n",
        " list[:]=?"
      ]
    },
    {
      "cell_type": "code",
      "metadata": {
        "id": "zfkX5LLzTnXP",
        "colab": {
          "base_uri": "https://localhost:8080/"
        },
        "outputId": "a95ef6db-626c-49f9-adb4-f53056ae2530"
      },
      "source": [
        ""
      ],
      "execution_count": null,
      "outputs": [
        {
          "output_type": "execute_result",
          "data": {
            "text/plain": [
              "['xyz', 3, 'etc']"
            ]
          },
          "metadata": {
            "tags": []
          },
          "execution_count": 3
        }
      ]
    },
    {
      "cell_type": "markdown",
      "metadata": {
        "id": "93qfPdkuTnfg"
      },
      "source": [
        "**[Slide No. - 36]**\n",
        "\n",
        "5. What is the output : list = [1,2,3,4,5,6,7]\n",
        "\n",
        "Print the even places items from the list."
      ]
    },
    {
      "cell_type": "code",
      "metadata": {
        "id": "otaNABAtTnrp",
        "colab": {
          "base_uri": "https://localhost:8080/"
        },
        "outputId": "fdc24bbc-572e-4b89-8f19-9b6d33b972fa"
      },
      "source": [
        "list = [1,2,3,4,5,6,7]\n",
        "print(list[::2])\n",
        "\n",
        "print(list[3::2])\n",
        "\n",
        "print(list[2::3])\n"
      ],
      "execution_count": null,
      "outputs": [
        {
          "output_type": "stream",
          "name": "stdout",
          "text": [
            "[1, 3, 5, 7]\n",
            "[4, 6]\n",
            "[3, 6]\n"
          ]
        }
      ]
    },
    {
      "cell_type": "markdown",
      "metadata": {
        "id": "SdSk9Z-vTn4h"
      },
      "source": [
        "**[Slide No. - 36]**\n",
        "\n",
        "6. What is the output : list = [1,2,3,4,10,11,7]\n",
        "\n",
        "print 10 and 11 item from the list ."
      ]
    },
    {
      "cell_type": "code",
      "metadata": {
        "id": "i9rupinIToAR",
        "colab": {
          "base_uri": "https://localhost:8080/"
        },
        "outputId": "ca597db0-7a9f-4130-d66c-7b457281d105"
      },
      "source": [
        "list = [1,2,3,4,10,11,7]\n",
        "\n",
        "print(list[4:6])\n"
      ],
      "execution_count": null,
      "outputs": [
        {
          "output_type": "stream",
          "name": "stdout",
          "text": [
            "[10, 11]\n"
          ]
        }
      ]
    },
    {
      "cell_type": "code",
      "metadata": {
        "colab": {
          "base_uri": "https://localhost:8080/"
        },
        "id": "MwcV2xqgOIb9",
        "outputId": "038e75c3-1912-4ce6-fb61-b3415472221c"
      },
      "source": [
        ""
      ],
      "execution_count": null,
      "outputs": [
        {
          "output_type": "execute_result",
          "data": {
            "text/plain": [
              "[7, 11, 10, 4, 3, 2, 1]"
            ]
          },
          "metadata": {
            "tags": []
          },
          "execution_count": 10
        }
      ]
    },
    {
      "cell_type": "markdown",
      "metadata": {
        "id": "jKf-xLTiToHF"
      },
      "source": [
        "**[Slide No. -38]**\n",
        "\n",
        "7.  Delete the 3 index value from the list and the print the list.\n",
        "\n",
        "list = [1, 2, 3, 4, 5, 6]    \n",
        "\n",
        "print(list)    \n",
        "    \n",
        " "
      ]
    },
    {
      "cell_type": "code",
      "metadata": {
        "id": "YSwSSoZSToQT"
      },
      "source": [
        "list = [1,2,3,4,5,6]\n",
        "\n",
        "del list[3]\n",
        "\n"
      ],
      "execution_count": null,
      "outputs": []
    },
    {
      "cell_type": "code",
      "metadata": {
        "colab": {
          "base_uri": "https://localhost:8080/"
        },
        "id": "mX3qq3_NPGbL",
        "outputId": "196829d8-51cd-41d7-c6f3-391b07ccceb7"
      },
      "source": [
        "\n"
      ],
      "execution_count": null,
      "outputs": [
        {
          "output_type": "stream",
          "text": [
            "[1, 2, 3, 5, 6]\n"
          ],
          "name": "stdout"
        }
      ]
    },
    {
      "cell_type": "markdown",
      "metadata": {
        "id": "XqIA7Ia9Umga"
      },
      "source": [
        "[Slide No. - 37]\n",
        "8. list = [1, \"a\", 3, 4, 5, 6] \n",
        "\n",
        "replace \"a\" by 2 in the list\n",
        "\n",
        "What is the new list?"
      ]
    },
    {
      "cell_type": "code",
      "metadata": {
        "id": "fCgmnwKlUm7K",
        "colab": {
          "base_uri": "https://localhost:8080/"
        },
        "outputId": "19e12011-7302-4f33-bcb9-3c206098e6be"
      },
      "source": [
        "list = [1,\"a\",3,4,5,6]\n",
        "\n",
        "list[1]=2\n",
        "\n",
        "list\n",
        "\n"
      ],
      "execution_count": null,
      "outputs": [
        {
          "output_type": "execute_result",
          "data": {
            "text/plain": [
              "[1, 2, 3, 4, 5, 6]"
            ]
          },
          "metadata": {},
          "execution_count": 28
        }
      ]
    },
    {
      "cell_type": "code",
      "metadata": {
        "colab": {
          "base_uri": "https://localhost:8080/"
        },
        "id": "RGKbvZV9QXqw",
        "outputId": "46e5d011-cf6e-4189-ea49-7fc93a8292a8"
      },
      "source": [
        ""
      ],
      "execution_count": null,
      "outputs": [
        {
          "output_type": "stream",
          "text": [
            "Krish\n"
          ],
          "name": "stdout"
        }
      ]
    },
    {
      "cell_type": "markdown",
      "metadata": {
        "id": "PbqBBeiMUnMA"
      },
      "source": [
        "**[Slide No - 37]**\n",
        "\n",
        "9. list = [1, 2, 3, 4, 5, 6] \n",
        "\n",
        "by using neagtive indexing replace 5 by 'e' in the list \n",
        "\n",
        "print(list)"
      ]
    },
    {
      "cell_type": "code",
      "metadata": {
        "id": "EsvRWH48UnWJ",
        "colab": {
          "base_uri": "https://localhost:8080/"
        },
        "outputId": "ab8f2a20-d1d5-4b14-ac90-5a46ed45c856"
      },
      "source": [
        "list = [1,2,3,4,5,6]\n",
        "\n",
        "list[-2]=\"e\"\n",
        "\n",
        "list\n"
      ],
      "execution_count": null,
      "outputs": [
        {
          "output_type": "execute_result",
          "data": {
            "text/plain": [
              "[1, 2, 3, 4, 'e', 6]"
            ]
          },
          "metadata": {},
          "execution_count": 31
        }
      ]
    },
    {
      "cell_type": "markdown",
      "metadata": {
        "id": "-2YsXQGKVGxY"
      },
      "source": [
        "**[Slide No. - 37]**\n",
        "\n",
        "10. list = [1, 2, 3, 4, 5, 6] \n",
        "\n",
        "replace 1st and 2nd index value by (89,78)\n",
        "\n",
        "print(list) "
      ]
    },
    {
      "cell_type": "code",
      "metadata": {
        "id": "G3JxP2ToVGCt",
        "colab": {
          "base_uri": "https://localhost:8080/"
        },
        "outputId": "907375e6-fcf9-4795-b563-226da05f2e3b"
      },
      "source": [
        "list = [1,2,3,4,5,6]\n",
        "\n",
        "list[1]=89\n",
        "\n",
        "list[2]=78\n",
        "\n",
        "print(list)\n",
        "\n",
        "\n",
        "\n"
      ],
      "execution_count": 3,
      "outputs": [
        {
          "output_type": "stream",
          "name": "stdout",
          "text": [
            "[1, 89, 78, 4, 5, 6]\n"
          ]
        }
      ]
    },
    {
      "cell_type": "markdown",
      "metadata": {
        "id": "5PEGDtZgVeTB"
      },
      "source": [
        "**[Slide No. -38]**\n",
        "\n",
        "11. Create a list and delete 2 to 4 index value  from list ?"
      ]
    },
    {
      "cell_type": "code",
      "metadata": {
        "id": "tuy0DMDqZ7Ux",
        "colab": {
          "base_uri": "https://localhost:8080/"
        },
        "outputId": "0594c0a8-701a-48b8-f6e5-58d403c38512"
      },
      "source": [
        "\n"
      ],
      "execution_count": null,
      "outputs": [
        {
          "output_type": "stream",
          "text": [
            "[1, 2, 6]\n"
          ],
          "name": "stdout"
        }
      ]
    },
    {
      "cell_type": "markdown",
      "metadata": {
        "id": "-OszCxUMZ8GW"
      },
      "source": [
        "**[Slide No.- 39]**\n",
        "\n",
        "12. Rermove Science  item from the list.\n",
        "\n",
        "Subject =['math', 'science', 'hindi', 'SST', 'Sanskrit']\n"
      ]
    },
    {
      "cell_type": "code",
      "metadata": {
        "id": "PwSvcAWJVexl",
        "colab": {
          "base_uri": "https://localhost:8080/"
        },
        "outputId": "fb707e42-163d-478e-efbb-63eab839cccb"
      },
      "source": [
        "Subject = ['math', 'science', 'hindi', 'sst', 'sanskrit']\n",
        "\n",
        "del Subject[1]\n",
        "\n",
        "Subject"
      ],
      "execution_count": 2,
      "outputs": [
        {
          "output_type": "execute_result",
          "data": {
            "text/plain": [
              "['math', 'hindi', 'sst', 'sanskrit']"
            ]
          },
          "metadata": {},
          "execution_count": 2
        }
      ]
    },
    {
      "cell_type": "code",
      "metadata": {
        "colab": {
          "base_uri": "https://localhost:8080/"
        },
        "id": "L2loVsc_TFSq",
        "outputId": "97e088dd-e4b5-47f5-ef64-42e024961b0e"
      },
      "source": [
        ""
      ],
      "execution_count": null,
      "outputs": [
        {
          "output_type": "execute_result",
          "data": {
            "text/plain": [
              "['math', 'hindi', 'SST', 'Sanskrit']"
            ]
          },
          "metadata": {
            "tags": []
          },
          "execution_count": 24
        }
      ]
    },
    {
      "cell_type": "code",
      "metadata": {
        "id": "udi7tJ8kTsuB"
      },
      "source": [
        ""
      ],
      "execution_count": null,
      "outputs": []
    }
  ]
}